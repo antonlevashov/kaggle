{
 "cells": [
  {
   "cell_type": "markdown",
   "metadata": {},
   "source": [
    "#### In this notebook we use pre-trained Inception V4 with validation set, and training only the last layer with dropout of .2, default dropout of fastai is .25 and .5 in the next layer"
   ]
  },
  {
   "cell_type": "code",
   "execution_count": 1,
   "metadata": {},
   "outputs": [],
   "source": [
    "%reload_ext autoreload\n",
    "%autoreload 2\n",
    "%matplotlib inline"
   ]
  },
  {
   "cell_type": "code",
   "execution_count": 2,
   "metadata": {},
   "outputs": [],
   "source": [
    "from fastai.imports import *\n",
    "from fastai.torch_imports import *\n",
    "from fastai.transforms import *\n",
    "from fastai.conv_learner import *\n",
    "from fastai.model import *\n",
    "from fastai.dataset import *\n",
    "from fastai.sgdr import *\n",
    "from fastai.plots import *\n",
    "\n",
    "import pandas as pd\n",
    "import numpy as np"
   ]
  },
  {
   "cell_type": "code",
   "execution_count": 3,
   "metadata": {},
   "outputs": [
    {
     "name": "stdout",
     "output_type": "stream",
     "text": [
      "400_inception_4_V2_submission.csv\tmodels\t\t\t   test.zip\r\n",
      "DOGS_submission_inception4_val_top.csv\tsample_submission.csv\t   tmp\r\n",
      "labels.csv\t\t\t\tsample_submission.csv.zip  train\r\n",
      "labels.csv.zip\t\t\t\ttest\t\t\t   train.zip\r\n"
     ]
    }
   ],
   "source": [
    "PATH = \"data/dogbreed/\"\n",
    "# size of images 340 x 340\n",
    "sz = 340\n",
    "\n",
    "arch = inception_4\n",
    "\n",
    "# batch size\n",
    "bs = 160\n",
    "\n",
    "!ls {PATH}"
   ]
  },
  {
   "cell_type": "code",
   "execution_count": 5,
   "metadata": {},
   "outputs": [
    {
     "name": "stdout",
     "output_type": "stream",
     "text": [
      "Validation set size is 2044\n"
     ]
    }
   ],
   "source": [
    "label_csv = f'{PATH}labels.csv'\n",
    "n = len(list(open(label_csv)))-1\n",
    "\n",
    "val_idxs = [get_cv_idxs(n)]\n",
    "print(\"Validation set size is\", len(val_idxs[0]))"
   ]
  },
  {
   "cell_type": "markdown",
   "metadata": {},
   "source": [
    "### Initial model"
   ]
  },
  {
   "cell_type": "code",
   "execution_count": 6,
   "metadata": {},
   "outputs": [],
   "source": [
    "# Helps us itterate faster by changing images from small to big\n",
    "def get_data(sz,bs):\n",
    "    tfms = tfms_from_model(arch, sz, aug_tfms=transforms_side_on, max_zoom=1.1)\n",
    "    data = ImageClassifierData.from_csv(PATH, \n",
    "                                    'train', \n",
    "                                    f'{PATH}labels.csv', \n",
    "                                    test_name='test',\n",
    "                                    val_idxs=val_idxs, # Create train/validation set\n",
    "                                    suffix='.jpg',\n",
    "                                    tfms=tfms,\n",
    "                                    bs=bs)\n",
    "    \n",
    "    return data if sz>300 else data.resize(340, 'tmp')"
   ]
  },
  {
   "cell_type": "code",
   "execution_count": 7,
   "metadata": {},
   "outputs": [
    {
     "name": "stdout",
     "output_type": "stream",
     "text": [
      "CPU times: user 400 ms, sys: 16 ms, total: 416 ms\n",
      "Wall time: 417 ms\n"
     ]
    }
   ],
   "source": [
    "# Load our data sets\n",
    "%time data = get_data(sz, bs)\n",
    "\n",
    "# Create our simple model, no data augmentation.\n",
    "# Precomputing weigths\n",
    "learn = ConvLearner.pretrained(arch, data, ps=0.2, precompute=True)"
   ]
  },
  {
   "cell_type": "code",
   "execution_count": 8,
   "metadata": {},
   "outputs": [
    {
     "data": {
      "text/plain": [
       "Sequential(\n",
       "  (0): BatchNorm1d(3072, eps=1e-05, momentum=0.1, affine=True)\n",
       "  (1): Dropout(p=0.2)\n",
       "  (2): Linear(in_features=3072, out_features=512)\n",
       "  (3): ReLU()\n",
       "  (4): BatchNorm1d(512, eps=1e-05, momentum=0.1, affine=True)\n",
       "  (5): Dropout(p=0.2)\n",
       "  (6): Linear(in_features=512, out_features=120)\n",
       "  (7): LogSoftmax()\n",
       ")"
      ]
     },
     "execution_count": 8,
     "metadata": {},
     "output_type": "execute_result"
    }
   ],
   "source": [
    "# Our last layer architecture\n",
    "learn"
   ]
  },
  {
   "cell_type": "code",
   "execution_count": 9,
   "metadata": {},
   "outputs": [
    {
     "data": {
      "application/vnd.jupyter.widget-view+json": {
       "model_id": "13ad277be1b945c581c4a519f5378e3c",
       "version_major": 2,
       "version_minor": 0
      },
      "text/html": [
       "<p>Failed to display Jupyter Widget of type <code>HBox</code>.</p>\n",
       "<p>\n",
       "  If you're reading this message in the Jupyter Notebook or JupyterLab Notebook, it may mean\n",
       "  that the widgets JavaScript is still loading. If this message persists, it\n",
       "  likely means that the widgets JavaScript library is either not installed or\n",
       "  not enabled. See the <a href=\"https://ipywidgets.readthedocs.io/en/stable/user_install.html\">Jupyter\n",
       "  Widgets Documentation</a> for setup instructions.\n",
       "</p>\n",
       "<p>\n",
       "  If you're reading this message in another frontend (for example, a static\n",
       "  rendering on GitHub or <a href=\"https://nbviewer.jupyter.org/\">NBViewer</a>),\n",
       "  it may mean that your frontend doesn't currently support widgets.\n",
       "</p>\n"
      ],
      "text/plain": [
       "HBox(children=(IntProgress(value=0, description='Epoch', max=1), HTML(value='')))"
      ]
     },
     "metadata": {},
     "output_type": "display_data"
    },
    {
     "name": "stdout",
     "output_type": "stream",
     "text": [
      "epoch      trn_loss   val_loss   accuracy                 \n",
      "    0      2.5801     23.483061  0.501939  \n",
      "\n"
     ]
    }
   ],
   "source": [
    "# Find the best learning rate\n",
    "lrf=learn.lr_find()"
   ]
  },
  {
   "cell_type": "code",
   "execution_count": 10,
   "metadata": {},
   "outputs": [
    {
     "data": {
      "image/png": "[encoded data removed]",
      "text/plain": [
       "<matplotlib.figure.Figure at 0x7f11dd023a90>"
      ]
     },
     "metadata": {},
     "output_type": "display_data"
    }
   ],
   "source": [
    "learn.sched.plot()"
   ]
  },
  {
   "cell_type": "code",
   "execution_count": 11,
   "metadata": {},
   "outputs": [
    {
     "data": {
      "application/vnd.jupyter.widget-view+json": {
       "model_id": "e85dd5a0fc6244e792499c2731d838ef",
       "version_major": 2,
       "version_minor": 0
      },
      "text/html": [
       "<p>Failed to display Jupyter Widget of type <code>HBox</code>.</p>\n",
       "<p>\n",
       "  If you're reading this message in the Jupyter Notebook or JupyterLab Notebook, it may mean\n",
       "  that the widgets JavaScript is still loading. If this message persists, it\n",
       "  likely means that the widgets JavaScript library is either not installed or\n",
       "  not enabled. See the <a href=\"https://ipywidgets.readthedocs.io/en/stable/user_install.html\">Jupyter\n",
       "  Widgets Documentation</a> for setup instructions.\n",
       "</p>\n",
       "<p>\n",
       "  If you're reading this message in another frontend (for example, a static\n",
       "  rendering on GitHub or <a href=\"https://nbviewer.jupyter.org/\">NBViewer</a>),\n",
       "  it may mean that your frontend doesn't currently support widgets.\n",
       "</p>\n"
      ],
      "text/plain": [
       "HBox(children=(IntProgress(value=0, description='Epoch', max=7), HTML(value='')))"
      ]
     },
     "metadata": {},
     "output_type": "display_data"
    },
    {
     "name": "stdout",
     "output_type": "stream",
     "text": [
      "epoch      trn_loss   val_loss   accuracy                  \n",
      "    0      0.547503   0.278158   0.926225  \n",
      "    1      0.310078   0.273847   0.925326                  \n",
      "    2      0.222045   0.283093   0.927047                  \n",
      "    3      0.176008   0.269905   0.928551                  \n",
      "    4      0.150294   0.246946   0.92835                   \n",
      "    5      0.130479   0.248236   0.932056                  \n",
      "    6      0.107385   0.281726   0.930413                  \n",
      "\n",
      "CPU times: user 16.2 s, sys: 13.6 s, total: 29.8 s\n",
      "Wall time: 21.3 s\n"
     ]
    },
    {
     "data": {
      "image/png": "[encoded data removed]",
      "text/plain": [
       "<matplotlib.figure.Figure at 0x7f11bf8713c8>"
      ]
     },
     "metadata": {},
     "output_type": "display_data"
    }
   ],
   "source": [
    "# Training is very fast with precomputed weights only the last layer\n",
    "%time learn.fit(1e-1,7)\n",
    "\n",
    "# Plot loss training\n",
    "learn.sched.plot_loss()"
   ]
  },
  {
   "cell_type": "code",
   "execution_count": 12,
   "metadata": {},
   "outputs": [
    {
     "data": {
      "application/vnd.jupyter.widget-view+json": {
       "model_id": "bbc5bed5a1414e009878be56693056d3",
       "version_major": 2,
       "version_minor": 0
      },
      "text/html": [
       "<p>Failed to display Jupyter Widget of type <code>HBox</code>.</p>\n",
       "<p>\n",
       "  If you're reading this message in the Jupyter Notebook or JupyterLab Notebook, it may mean\n",
       "  that the widgets JavaScript is still loading. If this message persists, it\n",
       "  likely means that the widgets JavaScript library is either not installed or\n",
       "  not enabled. See the <a href=\"https://ipywidgets.readthedocs.io/en/stable/user_install.html\">Jupyter\n",
       "  Widgets Documentation</a> for setup instructions.\n",
       "</p>\n",
       "<p>\n",
       "  If you're reading this message in another frontend (for example, a static\n",
       "  rendering on GitHub or <a href=\"https://nbviewer.jupyter.org/\">NBViewer</a>),\n",
       "  it may mean that your frontend doesn't currently support widgets.\n",
       "</p>\n"
      ],
      "text/plain": [
       "HBox(children=(IntProgress(value=0, description='Epoch', max=10), HTML(value='')))"
      ]
     },
     "metadata": {},
     "output_type": "display_data"
    },
    {
     "name": "stdout",
     "output_type": "stream",
     "text": [
      "epoch      trn_loss   val_loss   accuracy                  \n",
      "    0      0.130575   0.229578   0.936523  \n",
      "    1      0.123541   0.228907   0.9346                    \n",
      "    2      0.12312    0.223808   0.938446                  \n",
      "    3      0.121633   0.223312   0.937143                  \n",
      "    4      0.125617   0.225592   0.937965                  \n",
      "    5      0.115302   0.224687   0.936042                  \n",
      "    6      0.115974   0.2239     0.934941                  \n",
      "    7      0.115574   0.224905   0.934321                  \n",
      "    8      0.1171     0.223476   0.936042                  \n",
      "    9      0.115374   0.225385   0.937004                  \n",
      "\n",
      "CPU times: user 36min 10s, sys: 5min 9s, total: 41min 20s\n",
      "Wall time: 14min 4s\n"
     ]
    },
    {
     "data": {
      "image/png": "[encoded data removed]",
      "text/plain": [
       "<matplotlib.figure.Figure at 0x7f115b2be588>"
      ]
     },
     "metadata": {},
     "output_type": "display_data"
    }
   ],
   "source": [
    "# Usign cycle_len=1 means stochastic gradient descent with restarts used only once during the training.\n",
    "# Disable precompute and train last layer\n",
    "learn.precompute = False\n",
    "\n",
    "%time learn.fit(1e-2, 5, cycle_len=2)\n",
    "\n",
    "# Plot loss \n",
    "learn.sched.plot_loss()"
   ]
  },
  {
   "cell_type": "code",
   "execution_count": 13,
   "metadata": {},
   "outputs": [
    {
     "data": {
      "application/vnd.jupyter.widget-view+json": {
       "model_id": "4cd3c20b6f4f4eb187116956022d66e9",
       "version_major": 2,
       "version_minor": 0
      },
      "text/html": [
       "<p>Failed to display Jupyter Widget of type <code>HBox</code>.</p>\n",
       "<p>\n",
       "  If you're reading this message in the Jupyter Notebook or JupyterLab Notebook, it may mean\n",
       "  that the widgets JavaScript is still loading. If this message persists, it\n",
       "  likely means that the widgets JavaScript library is either not installed or\n",
       "  not enabled. See the <a href=\"https://ipywidgets.readthedocs.io/en/stable/user_install.html\">Jupyter\n",
       "  Widgets Documentation</a> for setup instructions.\n",
       "</p>\n",
       "<p>\n",
       "  If you're reading this message in another frontend (for example, a static\n",
       "  rendering on GitHub or <a href=\"https://nbviewer.jupyter.org/\">NBViewer</a>),\n",
       "  it may mean that your frontend doesn't currently support widgets.\n",
       "</p>\n"
      ],
      "text/plain": [
       "HBox(children=(IntProgress(value=0, description='Epoch', max=14), HTML(value='')))"
      ]
     },
     "metadata": {},
     "output_type": "display_data"
    },
    {
     "name": "stdout",
     "output_type": "stream",
     "text": [
      "epoch      trn_loss   val_loss   accuracy                  \n",
      "    0      0.113178   0.223664   0.936383  \n",
      "    1      0.110808   0.224085   0.934941                  \n",
      "    2      0.11243    0.224753   0.937826                  \n",
      "    3      0.112332   0.225877   0.93446                   \n",
      "    4      0.112328   0.22435    0.936523                  \n",
      "    5      0.110298   0.225293   0.934941                  \n",
      "    6      0.102221   0.223681   0.936383                  \n",
      "    7      0.105587   0.223563   0.937004                  \n",
      "    8      0.111545   0.225962   0.936523                  \n",
      "    9      0.110908   0.225005   0.935561                  \n",
      "    10     0.107683   0.223921   0.937004                  \n",
      "    11     0.106195   0.225576   0.93446                   \n",
      "    12     0.106107   0.224492   0.93446                   \n",
      "    13     0.105165   0.226562   0.935422                  \n",
      "\n",
      "CPU times: user 50min 23s, sys: 6min 9s, total: 56min 33s\n",
      "Wall time: 19min 7s\n"
     ]
    },
    {
     "data": {
      "image/png": "[encoded data removed]",
      "text/plain": [
       "<matplotlib.figure.Figure at 0x7f115b180d30>"
      ]
     },
     "metadata": {},
     "output_type": "display_data"
    }
   ],
   "source": [
    "# Reduce our learning rate and use cycle nult\n",
    "%time learn.fit(0.005, 3, cycle_len=2, cycle_mult=2)\n",
    "\n",
    "# Plot loss\n",
    "learn.sched.plot_loss()"
   ]
  },
  {
   "cell_type": "code",
   "execution_count": 15,
   "metadata": {},
   "outputs": [],
   "source": [
    "# Save our model\n",
    "learn.save('DOGS_inception4_val_top')"
   ]
  },
  {
   "cell_type": "markdown",
   "metadata": {},
   "source": [
    "#### Submiting just using this model gave us score of  on LB 0.22227"
   ]
  },
  {
   "cell_type": "markdown",
   "metadata": {},
   "source": [
    "### Retrain our model, UNFREEZING all layers and using differential lr."
   ]
  },
  {
   "cell_type": "raw",
   "metadata": {},
   "source": [
    "# Load model if necesseary\n",
    "# Load our data sets\n",
    "bs = 80\n",
    "data = get_data(sz, bs)\n",
    "learn = ConvLearner.pretrained(arch, data, ps=0.2, precompute=False)\n",
    "learn.load('DOGS_inception4_val_top')"
   ]
  },
  {
   "cell_type": "code",
   "execution_count": 9,
   "metadata": {},
   "outputs": [],
   "source": [
    "lr = 1e-2\n",
    "\n",
    "# Differential learning rates\n",
    "lrs = np.array([lr/9,lr/3,lr])\n",
    "\n",
    "# Train all layers in network\n",
    "learn.unfreeze()"
   ]
  },
  {
   "cell_type": "code",
   "execution_count": 10,
   "metadata": {},
   "outputs": [
    {
     "data": {
      "application/vnd.jupyter.widget-view+json": {
       "model_id": "775b7ea5fbd14ede8cebbf6d11c804fe",
       "version_major": 2,
       "version_minor": 0
      },
      "text/html": [
       "<p>Failed to display Jupyter Widget of type <code>HBox</code>.</p>\n",
       "<p>\n",
       "  If you're reading this message in the Jupyter Notebook or JupyterLab Notebook, it may mean\n",
       "  that the widgets JavaScript is still loading. If this message persists, it\n",
       "  likely means that the widgets JavaScript library is either not installed or\n",
       "  not enabled. See the <a href=\"https://ipywidgets.readthedocs.io/en/stable/user_install.html\">Jupyter\n",
       "  Widgets Documentation</a> for setup instructions.\n",
       "</p>\n",
       "<p>\n",
       "  If you're reading this message in another frontend (for example, a static\n",
       "  rendering on GitHub or <a href=\"https://nbviewer.jupyter.org/\">NBViewer</a>),\n",
       "  it may mean that your frontend doesn't currently support widgets.\n",
       "</p>\n"
      ],
      "text/plain": [
       "HBox(children=(IntProgress(value=0, description='Epoch', max=14), HTML(value='')))"
      ]
     },
     "metadata": {},
     "output_type": "display_data"
    },
    {
     "name": "stdout",
     "output_type": "stream",
     "text": [
      "epoch      trn_loss   val_loss   accuracy                    \n",
      "    0      0.317077   0.345953   0.907561  \n",
      "    1      0.17659    0.307133   0.914685                    \n",
      "    2      0.196117   0.3641     0.899082                    \n",
      "    3      0.148972   0.335045   0.911014                    \n",
      "    4      0.095364   0.316319   0.912937                     \n",
      "    5      0.069276   0.309204   0.916302                     \n",
      "    6      0.09684    0.35475    0.902841                     \n",
      "    7      0.088426   0.366901   0.905726                     \n",
      "    8      0.077182   0.364413   0.907561                     \n",
      "    9      0.048951   0.331701   0.911976                     \n",
      "    10     0.036719   0.339597   0.916696                     \n",
      "    11     0.034072   0.336533   0.917177                     \n",
      "    12     0.036713   0.32545    0.917657                     \n",
      "    13     0.027609   0.328077   0.920061                     \n",
      "\n",
      "CPU times: user 1h 14min 21s, sys: 9min 6s, total: 1h 23min 27s\n",
      "Wall time: 47min 43s\n"
     ]
    }
   ],
   "source": [
    "%time learn.fit(lrs, 3, cycle_len=2, cycle_mult=2)\n",
    "learn.sched.plot_loss()\n",
    "\n",
    "learn.save('DOGS_inception4_val_all')"
   ]
  },
  {
   "cell_type": "markdown",
   "metadata": {},
   "source": [
    "#### Submiting just using this model gave us score of  on LB."
   ]
  },
  {
   "cell_type": "markdown",
   "metadata": {},
   "source": [
    "### Retrain our model on all data w/o validation set, and only on top layer."
   ]
  },
  {
   "cell_type": "code",
   "execution_count": 15,
   "metadata": {},
   "outputs": [
    {
     "name": "stdout",
     "output_type": "stream",
     "text": [
      "CPU times: user 380 ms, sys: 20 ms, total: 400 ms\n",
      "Wall time: 398 ms\n"
     ]
    }
   ],
   "source": [
    "# Set val data to 1 point\n",
    "val_idxs = [0]\n",
    "\n",
    "\n",
    "# Helps us itterate faster by changing images from small to big\n",
    "def get_data(sz,bs):\n",
    "    tfms = tfms_from_model(arch, sz, aug_tfms=transforms_side_on, max_zoom=1.1)\n",
    "    data = ImageClassifierData.from_csv(PATH, \n",
    "                                    'train', \n",
    "                                    f'{PATH}labels.csv', \n",
    "                                    test_name='test',\n",
    "                                    val_idxs=val_idxs, # Create train/validation set\n",
    "                                    suffix='.jpg',\n",
    "                                    tfms=tfms,\n",
    "                                    bs=bs)\n",
    "    \n",
    "    return data if sz>300 else data.resize(340, 'tmp')\n",
    "\n",
    "# Load our data sets\n",
    "%time data = get_data(sz, bs)\n",
    "\n",
    "# Freeze all but the last layer\n",
    "learn.freeze()"
   ]
  },
  {
   "cell_type": "raw",
   "metadata": {},
   "source": [
    "# Load model if necesseary\n",
    "learn = ConvLearner.pretrained(arch, data, ps=0.2, precompute=False)\n",
    "learn.load('400_inception_4_no_val')"
   ]
  },
  {
   "cell_type": "code",
   "execution_count": 16,
   "metadata": {},
   "outputs": [
    {
     "data": {
      "application/vnd.jupyter.widget-view+json": {
       "model_id": "d0c446ea12cd42c296827dd3351e1dd8",
       "version_major": 2,
       "version_minor": 0
      },
      "text/html": [
       "<p>Failed to display Jupyter Widget of type <code>HBox</code>.</p>\n",
       "<p>\n",
       "  If you're reading this message in the Jupyter Notebook or JupyterLab Notebook, it may mean\n",
       "  that the widgets JavaScript is still loading. If this message persists, it\n",
       "  likely means that the widgets JavaScript library is either not installed or\n",
       "  not enabled. See the <a href=\"https://ipywidgets.readthedocs.io/en/stable/user_install.html\">Jupyter\n",
       "  Widgets Documentation</a> for setup instructions.\n",
       "</p>\n",
       "<p>\n",
       "  If you're reading this message in another frontend (for example, a static\n",
       "  rendering on GitHub or <a href=\"https://nbviewer.jupyter.org/\">NBViewer</a>),\n",
       "  it may mean that your frontend doesn't currently support widgets.\n",
       "</p>\n"
      ],
      "text/plain": [
       "HBox(children=(IntProgress(value=0, description='Epoch', max=12), HTML(value='')))"
      ]
     },
     "metadata": {},
     "output_type": "display_data"
    },
    {
     "name": "stdout",
     "output_type": "stream",
     "text": [
      "epoch      trn_loss   val_loss   accuracy                     \n",
      "    0      0.019694   0.325293   0.921503  \n",
      "    1      0.016524   0.32664    0.919187                     \n",
      "    2      0.01821    0.324619   0.921984                     \n",
      "    3      0.019351   0.323949   0.92111                      \n",
      "    4      0.020564   0.324824   0.921897                     \n",
      "    5      0.017497   0.324023   0.920061                     \n",
      "    6      0.020149   0.324168   0.921503                     \n",
      "    7      0.01656    0.324303   0.922465                     \n",
      "    8      0.018959   0.324204   0.921504                     \n",
      "    9      0.014886   0.322802   0.921504                     \n",
      "    10     0.012651   0.32747    0.922465                     \n",
      "    11     0.015814   0.327967   0.920061                     \n",
      "\n",
      "CPU times: user 43min 19s, sys: 6min 55s, total: 50min 14s\n",
      "Wall time: 17min 13s\n"
     ]
    }
   ],
   "source": [
    "%time learn.fit(1e-2, 6, cycle_len=2)\n",
    "\n",
    "# Plot loss \n",
    "learn.sched.plot_loss()"
   ]
  },
  {
   "cell_type": "code",
   "execution_count": null,
   "metadata": {},
   "outputs": [],
   "source": [
    "# Reduce our learning rate and use cycle nult\n",
    "%time learn.fit(0.005, 3, cycle_len=2, cycle_mult=2)\n",
    "\n",
    "# Plot loss\n",
    "learn.sched.plot_loss()"
   ]
  },
  {
   "cell_type": "code",
   "execution_count": null,
   "metadata": {},
   "outputs": [],
   "source": [
    "learn.save('DOGS_inception4_noval_all')"
   ]
  },
  {
   "cell_type": "markdown",
   "metadata": {},
   "source": [
    "### Retrain our model on all data, UNFREEZING all layers."
   ]
  },
  {
   "cell_type": "code",
   "execution_count": null,
   "metadata": {},
   "outputs": [],
   "source": []
  },
  {
   "cell_type": "code",
   "execution_count": null,
   "metadata": {},
   "outputs": [],
   "source": []
  },
  {
   "cell_type": "markdown",
   "metadata": {},
   "source": [
    "### Make our predictions"
   ]
  },
  {
   "cell_type": "code",
   "execution_count": 12,
   "metadata": {},
   "outputs": [
    {
     "name": "stdout",
     "output_type": "stream",
     "text": [
      "CPU times: user 2min 28s, sys: 31.2 s, total: 2min 59s\n",
      "Wall time: 57.9 s\n"
     ]
    },
    {
     "data": {
      "text/plain": [
       "(10357, 120)"
      ]
     },
     "execution_count": 12,
     "metadata": {},
     "output_type": "execute_result"
    }
   ],
   "source": [
    "# Set precompute=Flse activations were previously generated based on our validation set and training set split\n",
    "# learn = ConvLearner.pretrained(arch, data, precompute=False)\n",
    "# learn.load('400_inception_4_no_val')\n",
    "\n",
    "%time log_preds_test = learn.predict(is_test=True)\n",
    "log_preds_test.shape"
   ]
  },
  {
   "cell_type": "code",
   "execution_count": 13,
   "metadata": {},
   "outputs": [],
   "source": [
    "# Convert to probs\n",
    "preds = np.exp(log_preds_test)\n",
    "\n",
    "df = pd.DataFrame(preds)\n",
    "df.columns = data.classes\n",
    "\n",
    "df.insert(0,'id', [o[5:-4] for o in data.test_ds.fnames])\n",
    "\n",
    "# compression=\"gzip\"\n",
    "#df.to_csv(f'{PATH}DOGS_submission_inception4_val_top.csv', index=False)\n",
    "\n",
    "df.to_csv(f'{PATH}DOGS_submission_inception4_val_all.csv', index=False)\n",
    "#df.to_csv(f'{PATH}DOGS_submission_inception4_noval_top.csv', index=False)\n",
    "#df.to_csv(f'{PATH}DOGS_submission_inception4_noval_all.csv', index=False)\n",
    "\n",
    "from IPython.display import FileLink\n",
    "FileLink(f'{PATH}DOGS_submission_inception4_val_all.csv')"
   ]
  },
  {
   "cell_type": "code",
   "execution_count": 14,
   "metadata": {},
   "outputs": [
    {
     "data": {
      "text/html": [
       "<a href='data/dogbreed/DOGS_submission_inception4_val_all.csv' target='_blank'>data/dogbreed/DOGS_submission_inception4_val_all.csv</a><br>"
      ],
      "text/plain": [
       "/home/paperspace/fastai/courses/dl1/data/dogbreed/DOGS_submission_inception4_val_all.csv"
      ]
     },
     "execution_count": 14,
     "metadata": {},
     "output_type": "execute_result"
    }
   ],
   "source": [
    "from IPython.display import FileLink\n",
    "FileLink(f'{PATH}DOGS_submission_inception4_val_all.csv')"
   ]
  },
  {
   "cell_type": "code",
   "execution_count": null,
   "metadata": {},
   "outputs": [],
   "source": []
  }
 ],
 "metadata": {
  "kernelspec": {
   "display_name": "Python 3",
   "language": "python",
   "name": "python3"
  },
  "language_info": {
   "codemirror_mode": {
    "name": "ipython",
    "version": 3
   },
   "file_extension": ".py",
   "mimetype": "text/x-python",
   "name": "python",
   "nbconvert_exporter": "python",
   "pygments_lexer": "ipython3",
   "version": "3.6.4"
  }
 },
 "nbformat": 4,
 "nbformat_minor": 2
}
